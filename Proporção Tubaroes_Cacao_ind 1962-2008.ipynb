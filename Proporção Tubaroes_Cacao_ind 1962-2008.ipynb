{
 "cells": [
  {
   "cell_type": "code",
   "execution_count": 2,
   "metadata": {},
   "outputs": [],
   "source": [
    "import numpy as np\n",
    "import pandas as pd\n",
    "import keras\n",
    "import matplotlib.pyplot as plt\n",
    "from keras import layers"
   ]
  },
  {
   "cell_type": "code",
   "execution_count": 26,
   "metadata": {},
   "outputs": [
    {
     "name": "stdout",
     "output_type": "stream",
     "text": [
      "Dados do arquivo Excel:\n",
      "    Ano  Cacao_art  Cacao_ind  Cacao_art_ind  Cacao_anequim_art  \\\n",
      "0  1950        NaN        NaN            NaN                NaN   \n",
      "1  1951        NaN        NaN            NaN                NaN   \n",
      "2  1952        NaN        NaN            NaN                NaN   \n",
      "3  1953        NaN        NaN            NaN                NaN   \n",
      "4  1954        NaN        NaN            NaN                NaN   \n",
      "\n",
      "   Cacao_anequim_ind  Cacao_azul_art  Cacao_azul_ind  Cacao_machote_art  \\\n",
      "0                NaN             NaN             NaN                NaN   \n",
      "1                NaN             NaN             NaN                NaN   \n",
      "2                NaN             NaN             NaN                NaN   \n",
      "3                NaN             NaN             NaN                NaN   \n",
      "4                NaN             NaN             NaN                NaN   \n",
      "\n",
      "   Cacao_machote_ind  ...  Cacao_raposa_ind  Cacao_tigre_art  Cacao_tigre_ind  \\\n",
      "0                NaN  ...               NaN              NaN              NaN   \n",
      "1                NaN  ...               NaN              NaN              NaN   \n",
      "2                NaN  ...               NaN              NaN              NaN   \n",
      "3                NaN  ...               NaN              NaN              NaN   \n",
      "4                NaN  ...               NaN              NaN              NaN   \n",
      "\n",
      "   Cacao_canejo_art  Cacao_canejo_ind  Cacao_limao_art  Cacao_frango_art  \\\n",
      "0               NaN               NaN              NaN               NaN   \n",
      "1               NaN               NaN              NaN               NaN   \n",
      "2               NaN               NaN              NaN               NaN   \n",
      "3               NaN               NaN              NaN               NaN   \n",
      "4               NaN               NaN              NaN               NaN   \n",
      "\n",
      "   Cacao_frango_ind  Cacao_anjo_art  Cacao_anjo_ind  \n",
      "0               NaN             NaN             NaN  \n",
      "1               NaN             NaN             NaN  \n",
      "2               NaN             NaN             NaN  \n",
      "3               NaN             NaN             NaN  \n",
      "4               NaN             NaN             NaN  \n",
      "\n",
      "[5 rows x 40 columns]\n",
      "Dados carregados e selecionados corretamente:\n",
      "    Ano  Cacao_art  Cacao_ind  Cacao_art_ind  Cacao_anequim_art  \\\n",
      "0  1950        NaN        NaN            NaN                NaN   \n",
      "1  1951        NaN        NaN            NaN                NaN   \n",
      "2  1952        NaN        NaN            NaN                NaN   \n",
      "3  1953        NaN        NaN            NaN                NaN   \n",
      "4  1954        NaN        NaN            NaN                NaN   \n",
      "\n",
      "   Cacao_anequim_ind  Cacao_azul_art  \n",
      "0                NaN             NaN  \n",
      "1                NaN             NaN  \n",
      "2                NaN             NaN  \n",
      "3                NaN             NaN  \n",
      "4                NaN             NaN  \n",
      "Dados finais com a proporção calculada para todos os anos:\n",
      "     Ano   Cacao_ind         Soma  Prop_Cacao_ind\n",
      "12  1962         NaN   545.000000             NaN\n",
      "13  1963         NaN   704.000000             NaN\n",
      "14  1964         NaN   742.000000             NaN\n",
      "17  1967         NaN  1604.000000             NaN\n",
      "19  1969         NaN   838.000000             NaN\n",
      "20  1970         NaN  1015.000000             NaN\n",
      "21  1971         NaN  1408.000000             NaN\n",
      "26  1976         NaN   385.000000             NaN\n",
      "27  1977         NaN  1045.000000             NaN\n",
      "28  1978   38.000000   683.000000        0.055637\n",
      "29  1979  386.000000   672.000000        0.574405\n",
      "30  1980  270.000000   665.000000        0.406015\n",
      "31  1981  269.000000   536.000000        0.501866\n",
      "32  1982  208.000000   582.000000        0.357388\n",
      "33  1983  236.000000   701.000000        0.336662\n",
      "34  1984  191.000000   666.000000        0.286787\n",
      "35  1985  316.000000   774.000000        0.408269\n",
      "36  1986  160.000000   495.000000        0.323232\n",
      "37  1987  114.000000   465.000000        0.245161\n",
      "38  1988  214.000000   583.000000        0.367067\n",
      "39  1989  235.000000   578.000000        0.406574\n",
      "45  1995         NaN   473.500000             NaN\n",
      "46  1996   47.500000   400.000000        0.118750\n",
      "47  1997  176.000000   792.500000        0.222082\n",
      "48  1998   92.000000   792.500000        0.116088\n",
      "49  1999  112.500000   372.000000        0.302419\n",
      "50  2000  100.000000   382.500000        0.261438\n",
      "51  2001   67.500000   351.000000        0.192308\n",
      "52  2002  249.000000   677.000000        0.367799\n",
      "53  2003  253.000000   679.500000        0.372333\n",
      "54  2004  283.000000   763.000000        0.370904\n",
      "55  2005  281.500000   764.500000        0.368215\n",
      "56  2006  325.500000   881.000000        0.369467\n",
      "57  2007  359.000000   832.500000        0.431231\n",
      "58  2008    0.266990    98.603008        0.002708\n",
      "59  2009    1.920504     5.774817        0.332565\n",
      "60  2010    7.783443    39.622443        0.196440\n",
      "61  2011   45.403000    84.212075        0.539151\n",
      "62  2012   39.320000    57.294086        0.686284\n",
      "63  2013   37.034500   107.939996        0.343103\n",
      "64  2014   32.255000    82.962123        0.388792\n",
      "65  2015    4.389200    19.056000        0.230332\n",
      "67  2017    5.172500    73.914800        0.069979\n",
      "68  2018    6.662400    82.373800        0.080880\n",
      "69  2019   20.477800    78.126300        0.262111\n",
      "70  2020   11.703700    40.105500        0.291823\n",
      "71  2021   70.949400    97.517400        0.727556\n",
      "72  2022   74.461620   100.439600        0.741357\n",
      "     Ano  Cacao_ind    Soma  Prop_Cacao_ind\n",
      "12  1962        NaN   545.0             NaN\n",
      "13  1963        NaN   704.0             NaN\n",
      "14  1964        NaN   742.0             NaN\n",
      "17  1967        NaN  1604.0             NaN\n",
      "19  1969        NaN   838.0             NaN\n",
      "20  1970        NaN  1015.0             NaN\n",
      "21  1971        NaN  1408.0             NaN\n",
      "26  1976        NaN   385.0             NaN\n",
      "27  1977        NaN  1045.0             NaN\n",
      "28  1978       38.0   683.0        0.055637\n",
      "29  1979      386.0   672.0        0.574405\n",
      "30  1980      270.0   665.0        0.406015\n",
      "31  1981      269.0   536.0        0.501866\n",
      "32  1982      208.0   582.0        0.357388\n",
      "33  1983      236.0   701.0        0.336662\n",
      "34  1984      191.0   666.0        0.286787\n",
      "35  1985      316.0   774.0        0.408269\n",
      "36  1986      160.0   495.0        0.323232\n",
      "37  1987      114.0   465.0        0.245161\n",
      "38  1988      214.0   583.0        0.367067\n"
     ]
    },
    {
     "name": "stderr",
     "output_type": "stream",
     "text": [
      "C:\\Users\\Meu Computador\\AppData\\Local\\Temp\\ipykernel_15712\\1621208482.py:35: SettingWithCopyWarning: \n",
      "A value is trying to be set on a copy of a slice from a DataFrame.\n",
      "Try using .loc[row_indexer,col_indexer] = value instead\n",
      "\n",
      "See the caveats in the documentation: https://pandas.pydata.org/pandas-docs/stable/user_guide/indexing.html#returning-a-view-versus-a-copy\n",
      "  dados['Prop_Cacao_ind'] = dados['Cacao_ind'] / dados['Soma']\n"
     ]
    }
   ],
   "source": [
    "import pandas as pd\n",
    "import numpy as np\n",
    "\n",
    "# Configuração para exibir todas as linhas do DataFrame\n",
    "pd.set_option('display.max_rows', None)\n",
    "\n",
    "# Coletando dados do arquivo Excel\n",
    "df = pd.read_excel('C:/Users/Meu Computador/Documents/Tubaroes/RJ_Reconstrucao_Tubaroes_2024_11_04.xlsx')\n",
    "\n",
    "# Exibindo as primeiras linhas do DataFrame para verificar o carregamento\n",
    "print(\"Dados do arquivo Excel:\")\n",
    "print(df.head())\n",
    "\n",
    "# Selecionando as colunas de interesse (sem remover linhas com valores ausentes)\n",
    "df_Pescadas = df[['Ano', 'Cacao_art', 'Cacao_ind', 'Cacao_art_ind', 'Cacao_anequim_art', 'Cacao_anequim_ind', 'Cacao_azul_art']].reset_index(drop=True)\n",
    "\n",
    "# Verificando se o DataFrame `df_Pescadas` contém dados\n",
    "if df_Pescadas.empty:\n",
    "    print(\"Tabela vazia após seleção de colunas.\")\n",
    "else:\n",
    "    print(\"Dados carregados e selecionados corretamente:\")\n",
    "    print(df_Pescadas.head())\n",
    "\n",
    "# Calculando a soma das colunas selecionadas para cada linha e armazenando na nova coluna 'Soma'\n",
    "# Ignorando valores NaN durante a soma\n",
    "df_Pescadas['Soma'] = df_Pescadas[['Cacao_art', 'Cacao_ind', 'Cacao_art_ind', 'Cacao_anequim_art', 'Cacao_anequim_ind', 'Cacao_azul_art']].sum(axis=1, skipna=True)\n",
    "\n",
    "# Removendo linhas onde 'Soma' é zero ou NaN, pois essas linhas não contêm dados úteis para análise\n",
    "df_Pescadas = df_Pescadas[df_Pescadas['Soma'] > 0]\n",
    "\n",
    "# Selecionando as colunas de interesse para análise e criando o DataFrame `dados`\n",
    "dados = df_Pescadas[['Ano', 'Cacao_ind', 'Soma']]\n",
    "\n",
    "# Calculando a proporção da coluna 'Cacao_ind' em relação à coluna 'Soma'\n",
    "dados['Prop_Cacao_ind'] = dados['Cacao_ind'] / dados['Soma']\n",
    "\n",
    "# Exibindo o DataFrame final com todas as linhas\n",
    "print(\"Dados finais com a proporção calculada para todos os anos:\")\n",
    "print(dados)\n",
    "\n",
    "# Para fins de predição, organizando e concatenando os anos conforme necessário\n",
    "anos_com_dados = dados[\"Ano\"].values\n",
    "anos_para_prever = np.array([\n",
    "    1962, 1963, 1964, 1966, 1967, 1968, 1969, 1970, 1971, 1972, 1973, 1975, \n",
    "    1976, 1977, 1978, 1979, 1980, 1981, 1982, 1983, 1984, 1985, 1986, 1987, \n",
    "    1988, 1989, 1998, 1999, 2000, 2001, 2002, 2003, 2004, 2005, 2006, 2007, 2008\n",
    "])\n",
    "todos_anos = np.concatenate((anos_para_prever, anos_com_dados))\n",
    "todos_anos.sort()\n",
    "\n",
    "# Extraindo os valores de proporção para uso posterior\n",
    "prop = dados['Prop_Cacao_ind'].values\n",
    "dados.head()\n",
    "print(dados.head(20))\n"
   ]
  },
  {
   "cell_type": "markdown",
   "metadata": {},
   "source": []
  },
  {
   "cell_type": "code",
   "execution_count": 23,
   "metadata": {},
   "outputs": [],
   "source": [
    "#Normalização dos dados\n",
    "\n",
    "ano_mean = np.mean(anos_com_dados)\n",
    "ano_std = np.std(anos_com_dados)\n",
    "anos_para_prever_norm = (anos_para_prever - ano_mean)/ano_std\n",
    "anos_com_dados_norm = (anos_com_dados - ano_mean)/ano_std\n",
    "\n",
    "prop_mean = np.mean(prop)\n",
    "prop_std = np.std(prop)\n",
    "prop_norm = (prop - prop_mean)/prop_std\n"
   ]
  },
  {
   "cell_type": "code",
   "execution_count": 15,
   "metadata": {},
   "outputs": [
    {
     "name": "stdout",
     "output_type": "stream",
     "text": [
      "Epoch 1/20\n"
     ]
    },
    {
     "name": "stderr",
     "output_type": "stream",
     "text": [
      "/home/andre/.local/lib/python3.10/site-packages/keras/src/layers/core/dense.py:87: UserWarning: Do not pass an `input_shape`/`input_dim` argument to a layer. When using Sequential models, prefer using an `Input(shape)` object as the first layer in the model instead.\n",
      "  super().__init__(activity_regularizer=activity_regularizer, **kwargs)\n"
     ]
    },
    {
     "name": "stdout",
     "output_type": "stream",
     "text": [
      "\u001b[1m1/1\u001b[0m \u001b[32m━━━━━━━━━━━━━━━━━━━━\u001b[0m\u001b[37m\u001b[0m \u001b[1m1s\u001b[0m 1s/step - loss: 0.9791\n",
      "Epoch 2/20\n",
      "\u001b[1m1/1\u001b[0m \u001b[32m━━━━━━━━━━━━━━━━━━━━\u001b[0m\u001b[37m\u001b[0m \u001b[1m0s\u001b[0m 15ms/step - loss: 0.9250\n",
      "Epoch 3/20\n",
      "\u001b[1m1/1\u001b[0m \u001b[32m━━━━━━━━━━━━━━━━━━━━\u001b[0m\u001b[37m\u001b[0m \u001b[1m0s\u001b[0m 16ms/step - loss: 0.8837\n",
      "Epoch 4/20\n",
      "\u001b[1m1/1\u001b[0m \u001b[32m━━━━━━━━━━━━━━━━━━━━\u001b[0m\u001b[37m\u001b[0m \u001b[1m0s\u001b[0m 16ms/step - loss: 0.8432\n",
      "Epoch 5/20\n",
      "\u001b[1m1/1\u001b[0m \u001b[32m━━━━━━━━━━━━━━━━━━━━\u001b[0m\u001b[37m\u001b[0m \u001b[1m0s\u001b[0m 16ms/step - loss: 0.8012\n",
      "Epoch 6/20\n",
      "\u001b[1m1/1\u001b[0m \u001b[32m━━━━━━━━━━━━━━━━━━━━\u001b[0m\u001b[37m\u001b[0m \u001b[1m0s\u001b[0m 16ms/step - loss: 0.7550\n",
      "Epoch 7/20\n",
      "\u001b[1m1/1\u001b[0m \u001b[32m━━━━━━━━━━━━━━━━━━━━\u001b[0m\u001b[37m\u001b[0m \u001b[1m0s\u001b[0m 17ms/step - loss: 0.7051\n",
      "Epoch 8/20\n",
      "\u001b[1m1/1\u001b[0m \u001b[32m━━━━━━━━━━━━━━━━━━━━\u001b[0m\u001b[37m\u001b[0m \u001b[1m0s\u001b[0m 17ms/step - loss: 0.6553\n",
      "Epoch 9/20\n",
      "\u001b[1m1/1\u001b[0m \u001b[32m━━━━━━━━━━━━━━━━━━━━\u001b[0m\u001b[37m\u001b[0m \u001b[1m0s\u001b[0m 17ms/step - loss: 0.6059\n",
      "Epoch 10/20\n",
      "\u001b[1m1/1\u001b[0m \u001b[32m━━━━━━━━━━━━━━━━━━━━\u001b[0m\u001b[37m\u001b[0m \u001b[1m0s\u001b[0m 20ms/step - loss: 0.5611\n",
      "Epoch 11/20\n",
      "\u001b[1m1/1\u001b[0m \u001b[32m━━━━━━━━━━━━━━━━━━━━\u001b[0m\u001b[37m\u001b[0m \u001b[1m0s\u001b[0m 18ms/step - loss: 0.5215\n",
      "Epoch 12/20\n",
      "\u001b[1m1/1\u001b[0m \u001b[32m━━━━━━━━━━━━━━━━━━━━\u001b[0m\u001b[37m\u001b[0m \u001b[1m0s\u001b[0m 18ms/step - loss: 0.4865\n",
      "Epoch 13/20\n",
      "\u001b[1m1/1\u001b[0m \u001b[32m━━━━━━━━━━━━━━━━━━━━\u001b[0m\u001b[37m\u001b[0m \u001b[1m0s\u001b[0m 17ms/step - loss: 0.4546\n",
      "Epoch 14/20\n",
      "\u001b[1m1/1\u001b[0m \u001b[32m━━━━━━━━━━━━━━━━━━━━\u001b[0m\u001b[37m\u001b[0m \u001b[1m0s\u001b[0m 17ms/step - loss: 0.4283\n",
      "Epoch 15/20\n",
      "\u001b[1m1/1\u001b[0m \u001b[32m━━━━━━━━━━━━━━━━━━━━\u001b[0m\u001b[37m\u001b[0m \u001b[1m0s\u001b[0m 20ms/step - loss: 0.4086\n",
      "Epoch 16/20\n",
      "\u001b[1m1/1\u001b[0m \u001b[32m━━━━━━━━━━━━━━━━━━━━\u001b[0m\u001b[37m\u001b[0m \u001b[1m0s\u001b[0m 16ms/step - loss: 0.3973\n",
      "Epoch 17/20\n",
      "\u001b[1m1/1\u001b[0m \u001b[32m━━━━━━━━━━━━━━━━━━━━\u001b[0m\u001b[37m\u001b[0m \u001b[1m0s\u001b[0m 17ms/step - loss: 0.3914\n",
      "Epoch 18/20\n",
      "\u001b[1m1/1\u001b[0m \u001b[32m━━━━━━━━━━━━━━━━━━━━\u001b[0m\u001b[37m\u001b[0m \u001b[1m0s\u001b[0m 17ms/step - loss: 0.3866\n",
      "Epoch 19/20\n",
      "\u001b[1m1/1\u001b[0m \u001b[32m━━━━━━━━━━━━━━━━━━━━\u001b[0m\u001b[37m\u001b[0m \u001b[1m0s\u001b[0m 18ms/step - loss: 0.3809\n",
      "Epoch 20/20\n",
      "\u001b[1m1/1\u001b[0m \u001b[32m━━━━━━━━━━━━━━━━━━━━\u001b[0m\u001b[37m\u001b[0m \u001b[1m0s\u001b[0m 19ms/step - loss: 0.3744\n"
     ]
    }
   ],
   "source": [
    "#Fit do modelo e salvando seus pesos\n",
    "model = keras.Sequential([layers.Dense(96,activation='leaky_relu',input_shape=(1,)),\n",
    "                             layers.Dense(32,activation='leaky_relu'),\n",
    "                             layers.Dense(80,activation='leaky_relu'),\n",
    "                             layers.Dense(80,activation='leaky_relu'),\n",
    "                             layers.Dense(96,activation='leaky_relu'),\n",
    "                             layers.Dense(112,activation='leaky_relu'),\n",
    "                             layers.Dense(1,activation='linear')])\n",
    "\n",
    "opt = keras.optimizers.Nadam(learning_rate=0.001)\n",
    "model.compile(optimizer=opt, loss='mse')\n",
    "\n",
    "\n",
    "history = model.fit(anos_com_dados_norm,prop_norm, epochs=20, verbose=1)\n",
    "model.save_weights('/home/andre/Área de Trabalho/Reconstrução da Estatística Pesqueira BR/Rio de Janeiro/Peixes/Sciaenidae/Desagregações Pescada_art 1962-2008/pesos prop Pesc_amarela_art/.weights.h5', overwrite=True)"
   ]
  },
  {
   "cell_type": "code",
   "execution_count": 16,
   "metadata": {},
   "outputs": [],
   "source": [
    "model.load_weights('/home/andre/Área de Trabalho/Reconstrução da Estatística Pesqueira BR/Rio de Janeiro/Peixes/Sciaenidae/Desagregações Pescada_art 1962-2008/pesos prop Pesc_amarela_art/.weights.h5')"
   ]
  },
  {
   "cell_type": "code",
   "execution_count": 17,
   "metadata": {},
   "outputs": [
    {
     "name": "stdout",
     "output_type": "stream",
     "text": [
      "WARNING:tensorflow:5 out of the last 11 calls to <function TensorFlowTrainer.make_predict_function.<locals>.one_step_on_data_distributed at 0x7c437400dab0> triggered tf.function retracing. Tracing is expensive and the excessive number of tracings could be due to (1) creating @tf.function repeatedly in a loop, (2) passing tensors with different shapes, (3) passing Python objects instead of tensors. For (1), please define your @tf.function outside of the loop. For (2), @tf.function has reduce_retracing=True option that can avoid unnecessary retracing. For (3), please refer to https://www.tensorflow.org/guide/function#controlling_retracing and https://www.tensorflow.org/api_docs/python/tf/function for  more details.\n",
      "\u001b[1m1/1\u001b[0m \u001b[32m━━━━━━━━━━━━━━━━━━━━\u001b[0m\u001b[37m\u001b[0m \u001b[1m0s\u001b[0m 38ms/step\n",
      "\u001b[1m2/2\u001b[0m \u001b[32m━━━━━━━━━━━━━━━━━━━━\u001b[0m\u001b[37m\u001b[0m \u001b[1m0s\u001b[0m 2ms/step \n",
      "\u001b[1m2/2\u001b[0m \u001b[32m━━━━━━━━━━━━━━━━━━━━\u001b[0m\u001b[37m\u001b[0m \u001b[1m0s\u001b[0m 2ms/step \n",
      "Previsões dos dados ausentes: [[0.]\n",
      " [0.]\n",
      " [0.]\n",
      " [0.]\n",
      " [0.]\n",
      " [0.]\n",
      " [0.]\n",
      " [0.]\n",
      " [0.]\n",
      " [0.]\n",
      " [0.]\n",
      " [0.]\n",
      " [0.]\n",
      " [0.]\n",
      " [0.]\n",
      " [0.]\n",
      " [0.]\n",
      " [0.]\n",
      " [0.]\n",
      " [0.]\n",
      " [0.]\n",
      " [0.]\n",
      " [0.]\n",
      " [0.]\n",
      " [0.]\n",
      " [0.]\n",
      " [0.]\n",
      " [0.]\n",
      " [0.]\n",
      " [0.]\n",
      " [0.]\n",
      " [0.]\n",
      " [0.]\n",
      " [0.]\n",
      " [0.]\n",
      " [0.]\n",
      " [0.]]\n"
     ]
    },
    {
     "data": {
      "image/png": "[encoded data removed]",
      "text/plain": [
       "<Figure size 432x288 with 1 Axes>"
      ]
     },
     "metadata": {
      "needs_background": "light"
     },
     "output_type": "display_data"
    }
   ],
   "source": [
    "#Previsões\n",
    "prev_disponiveis = model.predict(anos_com_dados_norm)*prop_std + prop_mean\n",
    "prev_ausentes = model.predict(anos_para_prever_norm)*prop_std + prop_mean\n",
    "\n",
    "#Colocando valores negativos para 0\n",
    "for i in range(len(prev_ausentes)):\n",
    "    if prev_ausentes[i]<0:\n",
    "        prev_ausentes[i]=0\n",
    "    if prev_ausentes[i]>1:\n",
    "        prev_ausentes[i]=1\n",
    "\n",
    "#Plot dos dados e previsões\n",
    "f1=plt.figure(1).add_subplot()\n",
    "f1.scatter(anos_com_dados,prop,label='Dados disponíveis')\n",
    "f1.scatter(anos_para_prever,prev_ausentes, color='red', label='Previsões dos dados ausentes')\n",
    "\n",
    "#Plot do fit da rede\n",
    "p = np.linspace(-2,2,50)\n",
    "y = model.predict(p)*prop_std + prop_mean\n",
    "f1.plot(p*ano_std + ano_mean,y,color='orange',label='Fit da rede')\n",
    "\n",
    "#Print das previsões\n",
    "print('Previsões dos dados ausentes:', prev_ausentes)\n",
    "\n",
    "\n",
    "plt.legend()\n",
    "plt.show()"
   ]
  },
  {
   "cell_type": "code",
   "execution_count": 18,
   "metadata": {},
   "outputs": [
    {
     "data": {
      "image/png": "[encoded data removed]",
      "text/plain": [
       "<Figure size 432x288 with 1 Axes>"
      ]
     },
     "metadata": {
      "needs_background": "light"
     },
     "output_type": "display_data"
    }
   ],
   "source": [
    "loss = history.history['loss']\n",
    "plt.plot(loss,label='loss')\n",
    "plt.legend()\n",
    "plt.show()"
   ]
  },
  {
   "cell_type": "code",
   "execution_count": 20,
   "metadata": {},
   "outputs": [
    {
     "name": "stdout",
     "output_type": "stream",
     "text": [
      "\u001b[1m2/2\u001b[0m \u001b[32m━━━━━━━━━━━━━━━━━━━━\u001b[0m\u001b[37m\u001b[0m \u001b[1m0s\u001b[0m 2ms/step \n"
     ]
    }
   ],
   "source": [
    "#Lista de anos sem buracos normalizada e sua predição      (para poder me referir por indices)\n",
    "\n",
    "anos = np.arange(1950,np.max(anos_para_prever)+1)\n",
    "anos_norm = (anos-ano_mean)/ano_std\n",
    "prev_continua = model.predict(anos_norm)*prop_std + prop_mean\n",
    "\n",
    "for i in range(len(prev_continua)):\n",
    "    if prev_continua[i]<0:\n",
    "        prev_continua[i]=0\n",
    "    if prev_continua[i]>=1:\n",
    "        prev_continua[i]=1\n",
    "\n",
    "np.save('prev_Pesc_amarela_art',prev_continua)"
   ]
  }
 ],
 "metadata": {
  "kernelspec": {
   "display_name": "Python 3",
   "language": "python",
   "name": "python3"
  },
  "language_info": {
   "codemirror_mode": {
    "name": "ipython",
    "version": 3
   },
   "file_extension": ".py",
   "mimetype": "text/x-python",
   "name": "python",
   "nbconvert_exporter": "python",
   "pygments_lexer": "ipython3",
   "version": "3.8.0"
  }
 },
 "nbformat": 4,
 "nbformat_minor": 2
}
